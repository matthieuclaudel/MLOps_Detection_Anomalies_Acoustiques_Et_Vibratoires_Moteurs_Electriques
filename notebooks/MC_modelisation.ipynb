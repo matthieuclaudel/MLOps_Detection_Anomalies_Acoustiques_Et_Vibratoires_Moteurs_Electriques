{
 "cells": [
  {
   "cell_type": "markdown",
   "metadata": {},
   "source": [
    "# **Test modélisation LOF**"
   ]
  },
  {
   "cell_type": "markdown",
   "metadata": {},
   "source": [
    "Hypothèse de départ : on dispose d'un dataset sans étiquette dont on sait qu'il y a 2.5% d'anomalies (expérience production). On dispose d'un 2ème dataset uniquement d'anomalies selon 7 classes.\n",
    "\n",
    "Objectif : Créer un modèle de clustering capable de détecter ces anomalies  mais aussi des nouvelles et des dérives. "
   ]
  },
  {
   "cell_type": "markdown",
   "metadata": {},
   "source": [
    "### Chargement des librairies"
   ]
  },
  {
   "cell_type": "code",
   "execution_count": 88,
   "metadata": {},
   "outputs": [],
   "source": [
    "from matplotlib import pyplot as plt\n",
    "import seaborn as sns\n",
    "import pandas as pd\n",
    "import numpy as np\n",
    "import seaborn as sns\n",
    "import matplotlib.pyplot as plt\n",
    "import plotly.express as px\n",
    "import umap\n",
    "import warnings\n",
    "from sklearn.model_selection import train_test_split\n",
    "from sklearn.preprocessing import normalize, StandardScaler\n",
    "from sklearn.cluster import DBSCAN\n",
    "from sklearn.metrics import classification_report, accuracy_score, roc_auc_score, matthews_corrcoef, average_precision_score\n",
    "from sklearn.metrics import ConfusionMatrixDisplay, confusion_matrix, average_precision_score, precision_score,recall_score,f1_score,roc_curve\n",
    "from sklearn.utils import shuffle\n",
    "from sklearn.manifold import LocallyLinearEmbedding, Isomap, TSNE\n",
    "from sklearn.decomposition import PCA\n",
    "from sklearn.neighbors import NearestNeighbors,LocalOutlierFactor\n",
    "from sklearn.covariance import EllipticEnvelope, MinCovDet\n",
    "\n",
    "warnings.filterwarnings(\"ignore\")\n",
    "%matplotlib inline"
   ]
  },
  {
   "cell_type": "markdown",
   "metadata": {},
   "source": [
    "### Chargement des data"
   ]
  },
  {
   "cell_type": "code",
   "execution_count": 160,
   "metadata": {},
   "outputs": [],
   "source": [
    "# Chargement des datasets et concaténation dans un df\n",
    "path = '/Users/matthieuclaudel/Documents/MLOps_Detection_Anomalies_Acoustiques_Et_Vibratoires_Moteurs_Electriques/'\n",
    "df_raw = pd.read_csv(path + '/data/raw/DATASET_GO_NG.csv',sep=';',decimal=',',index_col=\"index\", low_memory=False)\n",
    "df_default = pd.read_csv(path + '/data/raw/DATASET_NG.csv',sep=';',decimal=',',index_col=\"index\", low_memory=False)\n",
    "\n",
    "# Nettoyage\n",
    "df_raw.target = df_raw.target.fillna(10000)\n",
    "df_raw.target = df_raw.target.astype('float')\n",
    "df_raw.target = df_raw.target.replace(14,1)\n",
    "df_raw.target = df_raw.target.replace(13,1)\n",
    "df_raw.target = df_raw.target.replace(20,1)\n",
    "df_raw.target = df_raw.target.replace(9,1)\n",
    "df_raw.target = df_raw.target.replace(111,1)\n",
    "df_raw.target = df_raw.target.replace(5,1)\n",
    "df_raw.target = df_raw.target.replace(207,1)\n",
    "df_raw.target = df_raw.target.replace(27,1)\n",
    "df_raw.target = df_raw.target.replace(121,1)"
   ]
  },
  {
   "cell_type": "code",
   "execution_count": 161,
   "metadata": {},
   "outputs": [
    {
     "data": {
      "text/plain": [
       "target\n",
       "0.0        0.502715\n",
       "10000.0    0.474342\n",
       "1.0        0.022943\n",
       "Name: proportion, dtype: float64"
      ]
     },
     "execution_count": 161,
     "metadata": {},
     "output_type": "execute_result"
    }
   ],
   "source": [
    "df_raw.target.value_counts(normalize=True)"
   ]
  },
  {
   "cell_type": "markdown",
   "metadata": {},
   "source": [
    "### Preprocessing"
   ]
  },
  {
   "cell_type": "code",
   "execution_count": 162,
   "metadata": {},
   "outputs": [],
   "source": [
    "# Séparation du df pour récupération échantillon target = 0\n",
    "df_raw0 = df_raw[df_raw.target==0]\n",
    "df_raw1 = df_raw[df_raw.target==1]\n",
    "df_raw10000 = df_raw[df_raw.target==10000]\n",
    "\n",
    "# Mélange et récupération d'un jeu de 400 échantillons conformes\n",
    "df_raw0 = shuffle(df_raw0)\n",
    "df_conf = df_raw0[0:399]\n",
    "\n",
    "# Recomposition du dataset df_raw\n",
    "df_raw = pd.concat([df_raw0[400:],df_raw1])\n",
    "#df_raw = pd.concat([df_raw0[400:],df_raw1,df_raw10000])\n",
    "df_raw = shuffle(df_raw)\n",
    "\n",
    "# Recomposition du dataset de test\n",
    "df_default.target = 1\n",
    "df_validation = pd.concat([df_default,df_conf])\n",
    "df_validation = shuffle(df_validation)\n",
    "# Suppression des colonnes moyenne, écart-type, médiane, min et max\n",
    "df_raw = df_raw.drop(['moyenne', 'ecartype', 'mediane', 'min', 'max'], axis=1)\n",
    "df_validation = df_validation.drop(['moyenne', 'ecartype', 'mediane', 'min', 'max'], axis=1)\n",
    "\n",
    "#Séparation features/target\n",
    "X = df_raw.drop('target', axis=1)\n",
    "y = df_raw.target\n",
    "X_val = df_validation.drop('target', axis=1)\n",
    "y_val = df_validation.target\n",
    "\n",
    "# Normalisation/Standardisation des features\n",
    "scaler = StandardScaler()\n",
    "X_scaled = scaler.fit_transform(X)\n",
    "X_val_scaled = scaler.fit_transform(X_val)\n",
    "\n",
    "# Création de dataframe\n",
    "df_scaled = pd.DataFrame(X_scaled, )\n",
    "df_val_scaled = pd.DataFrame(X_val_scaled, )\n",
    "df_scaled.columns = X.columns\n",
    "df_val_scaled.columns = X.columns\n",
    "\n",
    "# Séparation des données raw X_2d en train et test\n",
    "#X_train, X_test,y_train,y_test = train_test_split(df_scaled,y,test_size=0.05, stratify=y)"
   ]
  },
  {
   "cell_type": "code",
   "execution_count": 163,
   "metadata": {},
   "outputs": [
    {
     "data": {
      "text/plain": [
       "target\n",
       "0.0    0.9557\n",
       "1.0    0.0443\n",
       "Name: proportion, dtype: float64"
      ]
     },
     "execution_count": 163,
     "metadata": {},
     "output_type": "execute_result"
    }
   ],
   "source": [
    "df_raw.target.value_counts(normalize=True)"
   ]
  },
  {
   "cell_type": "markdown",
   "metadata": {},
   "source": [
    "# MLFLOW tracking"
   ]
  },
  {
   "cell_type": "code",
   "execution_count": 16,
   "metadata": {},
   "outputs": [
    {
     "data": {
      "text/html": [
       "<pre style=\"white-space:pre;overflow-x:auto;line-height:normal;font-family:Menlo,'DejaVu Sans Mono',consolas,'Courier New',monospace\">Accessing as crotelius77\n",
       "</pre>\n"
      ],
      "text/plain": [
       "Accessing as crotelius77\n"
      ]
     },
     "metadata": {},
     "output_type": "display_data"
    },
    {
     "data": {
      "text/html": [
       "<pre style=\"white-space:pre;overflow-x:auto;line-height:normal;font-family:Menlo,'DejaVu Sans Mono',consolas,'Courier New',monospace\">Initialized MLflow to track repo \n",
       "<span style=\"color: #008000; text-decoration-color: #008000\">\"crotelius77/MLOps_Detection_Anomalies_Acoustiques_Et_Vibratoires_Moteurs_Electriques\"</span>\n",
       "</pre>\n"
      ],
      "text/plain": [
       "Initialized MLflow to track repo \n",
       "\u001b[32m\"crotelius77/MLOps_Detection_Anomalies_Acoustiques_Et_Vibratoires_Moteurs_Electriques\"\u001b[0m\n"
      ]
     },
     "metadata": {},
     "output_type": "display_data"
    },
    {
     "data": {
      "text/html": [
       "<pre style=\"white-space:pre;overflow-x:auto;line-height:normal;font-family:Menlo,'DejaVu Sans Mono',consolas,'Courier New',monospace\">Repository crotelius77/MLOps_Detection_Anomalies_Acoustiques_Et_Vibratoires_Moteurs_Electriques initialized!\n",
       "</pre>\n"
      ],
      "text/plain": [
       "Repository crotelius77/MLOps_Detection_Anomalies_Acoustiques_Et_Vibratoires_Moteurs_Electriques initialized!\n"
      ]
     },
     "metadata": {},
     "output_type": "display_data"
    }
   ],
   "source": [
    "import dagshub\n",
    "dagshub.init(repo_owner='crotelius77', repo_name='MLOps_Detection_Anomalies_Acoustiques_Et_Vibratoires_Moteurs_Electriques', mlflow=True)\n",
    "import mlflow\n",
    "from mlflow import MlflowClient\n",
    "client = MlflowClient(tracking_uri='https://dagshub.com/crotelius77/MLOps_Detection_Anomalies_Acoustiques_Et_Vibratoires_Moteurs_Electriques.mlflow')\n",
    "matt_experiment = mlflow.set_experiment(\"matthieu_models\")\n",
    "mlflow.autolog(disable=True)\n"
   ]
  },
  {
   "cell_type": "code",
   "execution_count": 192,
   "metadata": {},
   "outputs": [],
   "source": [
    "run_name = 'MC_LOF_cosine_RUN2'\n",
    "artifact_path = 'rf_matt'"
   ]
  },
  {
   "cell_type": "code",
   "execution_count": 193,
   "metadata": {},
   "outputs": [],
   "source": [
    "params = {\n",
    "    \"novelty\":True,\n",
    "    \"n_neighbors\":2,\n",
    "    \"contamination\":0.25,\n",
    "    \"metric\":\"cosine\",\n",
    "    \"n_jobs\":-1,\n",
    "}"
   ]
  },
  {
   "cell_type": "code",
   "execution_count": 194,
   "metadata": {},
   "outputs": [
    {
     "name": "stdout",
     "output_type": "stream",
     "text": [
      "Vision inliers_outliers sur données de test \n",
      " y_pred\n",
      "0    0.945364\n",
      "1    0.054636\n",
      "Name: proportion, dtype: float64\n",
      "Nombre d'erreurs :  155 \n",
      "\n",
      "Accuracy : 82.02 % \n",
      "\n",
      "Score ROC-AUC : 81.94 % \n",
      "\n",
      "Score MCC : 0.6385812494449459 \n",
      "\n",
      "Rapport de classification : \n",
      "               precision    recall  f1-score   support\n",
      "\n",
      "         0.0       0.80      0.81      0.81       399\n",
      "         1.0       0.83      0.83      0.83       463\n",
      "\n",
      "    accuracy                           0.82       862\n",
      "   macro avg       0.82      0.82      0.82       862\n",
      "weighted avg       0.82      0.82      0.82       862\n",
      " \n",
      "\n",
      "Matrice de confusion : \n",
      "\n"
     ]
    },
    {
     "data": {
      "image/png": "[encoded data removed]",
      "text/plain": [
       "<Figure size 640x480 with 2 Axes>"
      ]
     },
     "metadata": {},
     "output_type": "display_data"
    }
   ],
   "source": [
    "with mlflow.start_run(run_name=run_name, nested=False,  tags={\"project\": \"Anomalie_classification\", \"model\": \"LOF\",\"Data\":\"DATASET_GO_NG.csv without nan\"}) as run :\n",
    "    \n",
    "    # Instanciation de l'algo LOF de base\n",
    "    model = LocalOutlierFactor(**params)\n",
    "    \n",
    "    # Training sans réduction de dimension\n",
    "    model.fit(X_scaled)\n",
    "\n",
    "    # Prédiction sur l'ensemble de test\n",
    "    y_pred = model.predict(X_scaled)\n",
    "    y_pred[y_pred == 1] = 0\n",
    "    y_pred[y_pred == -1] = 1\n",
    "    \n",
    "    # Vision de la classification\n",
    "    df_pred = pd.DataFrame({\"y_pred\":y_pred})\n",
    "    print(\"Vision inliers_outliers sur données de test \\n\",df_pred.y_pred.value_counts(normalize=True))\n",
    "    \n",
    "    # Inférence du modèle sur les données de validation provenant du dataset_validation (concaténation défauts/sans défauts)\n",
    "    y_inf = model.predict(X_val_scaled)\n",
    "    y_inf[y_inf == 1] = 0 # on remplace la valeur des inliers par 0\n",
    "    y_inf[y_inf == -1] = 1 # on remplace la valeur des outliers par 1\n",
    "    \n",
    "    # Visualisation des métriques\n",
    "    n_errors = (y_inf!=y_val.values).sum()\n",
    "    print(\"Nombre d'erreurs : \",n_errors,\"\\n\")\n",
    "    \n",
    "    accuracy = 100*accuracy_score(y_val.values,y_inf)\n",
    "    print(f'Accuracy : {accuracy:.2f} %',\"\\n\")\n",
    "    \n",
    "    # affichage du ROC-AUC score\n",
    "    rocauc_score = 100 * roc_auc_score(y_val,y_inf)\n",
    "    print(f'Score ROC-AUC : {rocauc_score:.2f} %',\"\\n\")\n",
    "\n",
    "    # affichage du MCC score\n",
    "    mcc_score = matthews_corrcoef(y_val,y_inf)\n",
    "    print(f'Score MCC : {mcc_score}',\"\\n\")\n",
    "\n",
    "    print(\"Rapport de classification : \\n\",classification_report(y_val.values,y_inf),\"\\n\")\n",
    "\n",
    "    precision = 100 * precision_score(y_val.values,y_inf)\n",
    "    recall = 100 * recall_score(y_val.values,y_inf)\n",
    "    f1score = 100 * f1_score(y_val.values,y_inf)\n",
    "\n",
    "\n",
    "    cm = confusion_matrix(y_val.values, y_pred=y_inf)\n",
    "\n",
    "    FN_rate = 100 * (cm[1][0] / (cm[1][0]+cm[1][1]))\n",
    "    FP_rate = 100 * (cm[0][1] / (cm[0][1]+cm[0][0]))\n",
    "    Sensibility = 100 * (cm[1][1] / (cm[1][1]+cm[1][0]))\n",
    "    Specificity = 100 * (cm[0][0] / (cm[1][1]+cm[0][0]))\n",
    "\n",
    "\n",
    "    matrix = ConfusionMatrixDisplay(confusion_matrix=cm)\n",
    "    print(\"Matrice de confusion : \\n\")\n",
    "    figure = matrix.plot()\n",
    "    \n",
    "    metrics ={\"n_errors\":n_errors,\n",
    "                \"Accuracy\":accuracy,\n",
    "                \"Score ROC-AUC\":rocauc_score,\n",
    "                \"Score MCC\":mcc_score,\n",
    "                \"Recall\":recall,\n",
    "                \"F1-score\":f1score,\n",
    "                \"Sensibility\":Sensibility,\n",
    "                \"Specificity\":Specificity,\n",
    "                \"Precision\":precision,\n",
    "                \"FN_rate\":FN_rate,\n",
    "                \"FP_rate\":FP_rate}\n",
    "    \n",
    "    mlflow.log_params(params)\n",
    "    mlflow.log_metrics(metrics)\n",
    "    #mlflow.log_figure(figure, \"Confusion_Matrix.png\")\n",
    "    mlflow.sklearn.log_model(sk_model=model,input_example=X_val_scaled,artifact_path=artifact_path)"
   ]
  },
  {
   "cell_type": "markdown",
   "metadata": {},
   "source": [
    "### Sauvegarde modèle"
   ]
  },
  {
   "cell_type": "code",
   "execution_count": 51,
   "metadata": {},
   "outputs": [],
   "source": [
    "import pickle\n",
    "\n",
    "filename = 'run6_LOF.pkl'\n",
    "pickle.dump(model,open(filename,'wb'))"
   ]
  }
 ],
 "metadata": {
  "kernelspec": {
   "display_name": "Python 3",
   "language": "python",
   "name": "python3"
  },
  "language_info": {
   "codemirror_mode": {
    "name": "ipython",
    "version": 3
   },
   "file_extension": ".py",
   "mimetype": "text/x-python",
   "name": "python",
   "nbconvert_exporter": "python",
   "pygments_lexer": "ipython3",
   "version": "3.12.1"
  }
 },
 "nbformat": 4,
 "nbformat_minor": 2
}
